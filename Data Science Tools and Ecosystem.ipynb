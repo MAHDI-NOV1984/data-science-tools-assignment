{
 "cells": [
  {
   "cell_type": "markdown",
   "metadata": {},
   "source": [
    "<center>\n",
    "    <img src=\"https://cf-courses-data.s3.us.cloud-object-storage.appdomain.cloud/IBMDeveloperSkillsNetwork-DS0105EN-SkillsNetwork/labs/Module2/images/SN_web_lightmode.png\" width=\"300\" alt=\"cognitiveclass.ai logo\">\n",
    "</center>\n"
   ]
  },
  {
   "cell_type": "markdown",
   "metadata": {},
   "source": [
    "#### Add your code below following the instructions given in the course\n"
   ]
  },
  {
   "cell_type": "markdown",
   "metadata": {},
   "source": [
    "<h1>Data Science Tools and Ecosystem</h1>"
   ]
  },
  {
   "cell_type": "markdown",
   "metadata": {
    "tags": []
   },
   "source": [
    "In this notebook, Data Science Tools and Ecosystem are summarized."
   ]
  },
  {
   "cell_type": "markdown",
   "metadata": {
    "tags": []
   },
   "source": [
    "<strong>Some of the popular languages that Data Scientists use are:</h3>\n",
    "<ul>\n",
    "    <li>Python</li>\n",
    "    <li>R</li>\n",
    "    <li>Julia</li>\n",
    "    <li>Scala</li>\n",
    "    <li>Java</li>\n",
    "</ul>\n"
   ]
  },
  {
   "cell_type": "markdown",
   "metadata": {},
   "source": [
    "<strong>Some of the commonly used libraries used by Data Scientists include:</strong>\n",
    "<ol>\n",
    "    <li>TensorFlow</li>\n",
    "    <li>Pandas</li>\n",
    "    <li>NumPy</li>\n",
    "    <li>Keras</li>\n",
    "    <li>Matplotlib</li>\n",
    "    <li>SciKit-Learn</li>\n",
    "    <li>PyTorch</li>\n",
    "</ol>\n",
    "\n",
    " \n",
    " \n",
    " \n",
    " \n",
    "\n",
    "\n"
   ]
  },
  {
   "cell_type": "markdown",
   "metadata": {},
   "source": [
    "<h3>Data science tools:</h3>\n",
    "<table>\n",
    "  <tr>\n",
    "    <th>Item</th>\n",
    "    <th>Description</th>\n",
    "  </tr>    \n",
    "  <tr>\n",
    "    <td>R-Studio</td>\n",
    "    <td>is an integrated development environment for R, a programming language for statistical computing and graphics.</td>\n",
    "  </tr>\n",
    "  <tr>\n",
    "    <td>Jupyter Notebook</td>\n",
    "    <td>Is a web-based interactive computing platform. The notebook combines live code, equations, narrative text, visualizations</td>\n",
    "  </tr>\n",
    "  <tr>\n",
    "    <td>Jupyter lab</td>\n",
    "    <td>Web-based interactive development for work with multiple notebooks and files at the same time</td>\n",
    "  </tr>\n",
    "  <tr>\n",
    "    <td>Anaconda Navigator</td>\n",
    "    <td>Graphical user interface us to install and work with number of application without using CLI</td>\n",
    "  </tr>   \n",
    "</table>"
   ]
  },
  {
   "cell_type": "markdown",
   "metadata": {},
   "source": [
    " <h3>Below are a few examples of evaluating arithmetic expressions in Python</h3>\n",
    " Addition: 3 + 2\n",
    " <br>Subtraction: 3 - 1\n",
    " <br>Multiplication: 3 * 2\n",
    " <br>Division: 6 / 2"
   ]
  },
  {
   "cell_type": "code",
   "execution_count": 11,
   "metadata": {
    "tags": []
   },
   "outputs": [
    {
     "data": {
      "text/plain": [
       "17"
      ]
     },
     "execution_count": 11,
     "metadata": {},
     "output_type": "execute_result"
    }
   ],
   "source": [
    "#This a simple arithmetic expression to mutiply then add integers\n",
    "(4 * 3 ) + 5"
   ]
  },
  {
   "cell_type": "code",
   "execution_count": 12,
   "metadata": {
    "tags": []
   },
   "outputs": [
    {
     "data": {
      "text/plain": [
       "'90 miniutes = 1.5 hours'"
      ]
     },
     "execution_count": 12,
     "metadata": {},
     "output_type": "execute_result"
    }
   ],
   "source": [
    "#This will convert 200 minutes to hours by diving by 60\n",
    "def minutesToHours(minutes):\n",
    "    return minutes / 60.0\n",
    "\n",
    "minutes = 90\n",
    "\n",
    "f'{minutes} miniutes = {minutesToHours(minutes)} hours'"
   ]
  },
  {
   "cell_type": "markdown",
   "metadata": {},
   "source": [
    "<strong>Objectives:</strong>\n",
    "<ul>\n",
    "    <li>Understanding the most popular tools in data science</li>\n",
    "    <li>Code Versioning and Collaberation</li>\n",
    "    <li>Datasets and the Open-Source Datasets providers</li>\n",
    "    <li>API and how software communicate with each other</li>\n",
    "</ul>"
   ]
  },
  {
   "cell_type": "markdown",
   "metadata": {},
   "source": [
    "<h2>Author</h2>\n",
    "MAHDI ALNASHEET"
   ]
  },
  {
   "cell_type": "code",
   "execution_count": null,
   "metadata": {},
   "outputs": [],
   "source": []
  }
 ],
 "metadata": {
  "kernelspec": {
   "display_name": "Python",
   "language": "python",
   "name": "conda-env-python-py"
  },
  "language_info": {
   "codemirror_mode": {
    "name": "ipython",
    "version": 3
   },
   "file_extension": ".py",
   "mimetype": "text/x-python",
   "name": "python",
   "nbconvert_exporter": "python",
   "pygments_lexer": "ipython3",
   "version": "3.7.12"
  }
 },
 "nbformat": 4,
 "nbformat_minor": 4
}
